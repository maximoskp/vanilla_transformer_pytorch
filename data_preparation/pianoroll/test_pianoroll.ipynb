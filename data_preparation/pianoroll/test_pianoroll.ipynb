{
 "cells": [
  {
   "cell_type": "code",
   "execution_count": 45,
   "id": "99873fd7-fe45-4e51-a17e-1fe175021ba1",
   "metadata": {},
   "outputs": [],
   "source": [
    "import pypianoroll\n",
    "import os\n",
    "import matplotlib.pyplot as plt\n",
    "from copy import deepcopy"
   ]
  },
  {
   "cell_type": "code",
   "execution_count": 46,
   "id": "0f221402-5c53-4b3c-bd46-ffff039244de",
   "metadata": {},
   "outputs": [
    {
     "name": "stdout",
     "output_type": "stream",
     "text": [
      "Legnani, Luigi, Rondoletto scherzoso, Op.204, iq55D8Ex4Fo.mid\n"
     ]
    }
   ],
   "source": [
    "midifolder = '../data/giantmidi/'\n",
    "midifiles = os.listdir(midifolder)\n",
    "midifile = midifiles[0]\n",
    "print(midifile)"
   ]
  },
  {
   "cell_type": "code",
   "execution_count": 47,
   "id": "74236412-06f8-4d62-bca3-7831d3d524c5",
   "metadata": {},
   "outputs": [
    {
     "name": "stdout",
     "output_type": "stream",
     "text": [
      "Multitrack(name=None, resolution=24, tempo=array(shape=(16320, 1), dtype=float64), downbeat=array(shape=(16320, 1), dtype=bool), tracks=[StandardTrack(name='', program=0, is_drum=False, pianoroll=array(shape=(16320, 128), dtype=uint8))])\n"
     ]
    },
    {
     "data": {
      "text/plain": [
       "array([[ 0,  0,  0,  0,  0,  0,  0, 65,  0,  0,  0,  0,  0,  0, 57,  0,\n",
       "         0,  0,  0,  0],\n",
       "       [ 0,  0,  0,  0,  0,  0,  0, 65,  0,  0,  0,  0,  0,  0, 57,  0,\n",
       "         0,  0,  0,  0],\n",
       "       [ 0,  0,  0,  0,  0,  0,  0, 65,  0,  0,  0,  0,  0,  0, 57,  0,\n",
       "         0,  0,  0,  0],\n",
       "       [ 0,  0,  0,  0,  0,  0,  0, 65,  0,  0,  0,  0,  0,  0, 57,  0,\n",
       "         0,  0,  0,  0],\n",
       "       [ 0,  0,  0,  0,  0,  0,  0, 65,  0,  0,  0,  0,  0,  0, 57,  0,\n",
       "         0,  0,  0,  0],\n",
       "       [ 0,  0,  0,  0,  0,  0,  0, 65,  0,  0,  0,  0,  0,  0, 57,  0,\n",
       "         0,  0,  0,  0],\n",
       "       [ 0,  0,  0,  0,  0,  0,  0, 65,  0,  0,  0,  0,  0,  0, 57,  0,\n",
       "         0,  0,  0,  0],\n",
       "       [ 0,  0,  0,  0,  0,  0,  0, 65,  0,  0,  0,  0,  0,  0, 57,  0,\n",
       "         0,  0,  0,  0],\n",
       "       [ 0,  0,  0,  0,  0,  0,  0, 65,  0,  0,  0,  0,  0,  0, 57,  0,\n",
       "         0,  0,  0,  0],\n",
       "       [ 0,  0,  0,  0,  0,  0,  0, 65,  0,  0,  0,  0,  0,  0, 57,  0,\n",
       "         0,  0,  0,  0]], dtype=uint8)"
      ]
     },
     "execution_count": 47,
     "metadata": {},
     "output_type": "execute_result"
    },
    {
     "data": {
      "image/png": "[encoded data removed]",
      "text/plain": [
       "<Figure size 640x480 with 1 Axes>"
      ]
     },
     "metadata": {},
     "output_type": "display_data"
    }
   ],
   "source": [
    "multitrack = pypianoroll.read(midifolder + midifile)\n",
    "print(multitrack)\n",
    "pianoroll_array = multitrack.tracks[0].pianoroll\n",
    "plt.imshow(pianoroll_array[90:100, 60:70])\n",
    "pianoroll_array[90:100, 50:70]"
   ]
  },
  {
   "cell_type": "code",
   "execution_count": 48,
   "id": "b0c709bc-4353-4667-bc6e-a170887ec573",
   "metadata": {},
   "outputs": [
    {
     "ename": "AttributeError",
     "evalue": "'Multitrack' object has no attribute 'trimstart'",
     "output_type": "error",
     "traceback": [
      "\u001b[0;31m---------------------------------------------------------------------------\u001b[0m",
      "\u001b[0;31mAttributeError\u001b[0m                            Traceback (most recent call last)",
      "Cell \u001b[0;32mIn[48], line 3\u001b[0m\n\u001b[1;32m      1\u001b[0m multitrack\u001b[38;5;241m.\u001b[39mbinarize()\n\u001b[1;32m      2\u001b[0m \u001b[38;5;66;03m# trim trailing zeros\u001b[39;00m\n\u001b[0;32m----> 3\u001b[0m \u001b[43mmultitrack\u001b[49m\u001b[38;5;241;43m.\u001b[39;49m\u001b[43mtrimstart\u001b[49m()\n\u001b[1;32m      4\u001b[0m \u001b[38;5;66;03m# keep first 16 beats\u001b[39;00m\n\u001b[1;32m      5\u001b[0m multitrack\u001b[38;5;241m.\u001b[39mtrim(\u001b[38;5;241m0\u001b[39m, \u001b[38;5;241m16\u001b[39m \u001b[38;5;241m*\u001b[39m multitrack\u001b[38;5;241m.\u001b[39mresolution)\n",
      "\u001b[0;31mAttributeError\u001b[0m: 'Multitrack' object has no attribute 'trimstart'"
     ]
    }
   ],
   "source": [
    "multitrack.binarize()\n",
    "# keep first 16 beats\n",
    "multitrack.trim(0, 16 * multitrack.resolution)\n",
    "print(multitrack)\n",
    "binary_array = multitrack.tracks[0].pianoroll\n",
    "plt.imshow(binary_array[90:100, 60:70])\n",
    "binary_array[90:100, 50:70]"
   ]
  },
  {
   "cell_type": "code",
   "execution_count": null,
   "id": "73f23539-91de-47a9-9daa-a27bcdb0835b",
   "metadata": {},
   "outputs": [],
   "source": [
    "multitrack.plot()"
   ]
  }
 ],
 "metadata": {
  "kernelspec": {
   "display_name": "Python 3 (ipykernel)",
   "language": "python",
   "name": "python3"
  },
  "language_info": {
   "codemirror_mode": {
    "name": "ipython",
    "version": 3
   },
   "file_extension": ".py",
   "mimetype": "text/x-python",
   "name": "python",
   "nbconvert_exporter": "python",
   "pygments_lexer": "ipython3",
   "version": "3.11.6"
  }
 },
 "nbformat": 4,
 "nbformat_minor": 5
}
