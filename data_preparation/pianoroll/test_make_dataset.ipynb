{
 "cells": [
  {
   "cell_type": "code",
   "execution_count": 1,
   "id": "4e31bc57-6973-4cc6-93e1-9aba46c8ac05",
   "metadata": {},
   "outputs": [
    {
     "ename": "ModuleNotFoundError",
     "evalue": "No module named 'torch.utils.data.sample'",
     "output_type": "error",
     "traceback": [
      "\u001b[0;31m---------------------------------------------------------------------------\u001b[0m",
      "\u001b[0;31mModuleNotFoundError\u001b[0m                       Traceback (most recent call last)",
      "Cell \u001b[0;32mIn[1], line 2\u001b[0m\n\u001b[1;32m      1\u001b[0m \u001b[38;5;28;01mfrom\u001b[39;00m \u001b[38;5;21;01mtorch\u001b[39;00m\u001b[38;5;21;01m.\u001b[39;00m\u001b[38;5;21;01mutils\u001b[39;00m\u001b[38;5;21;01m.\u001b[39;00m\u001b[38;5;21;01mdata\u001b[39;00m \u001b[38;5;28;01mimport\u001b[39;00m Dataset\n\u001b[0;32m----> 2\u001b[0m \u001b[38;5;28;01mfrom\u001b[39;00m \u001b[38;5;21;01mtorch\u001b[39;00m\u001b[38;5;21;01m.\u001b[39;00m\u001b[38;5;21;01mutils\u001b[39;00m\u001b[38;5;21;01m.\u001b[39;00m\u001b[38;5;21;01mdata\u001b[39;00m\u001b[38;5;21;01m.\u001b[39;00m\u001b[38;5;21;01msample\u001b[39;00m \u001b[38;5;28;01mimport\u001b[39;00m BatchSampler, RandomSampler\n\u001b[1;32m      3\u001b[0m \u001b[38;5;28;01mimport\u001b[39;00m \u001b[38;5;21;01mnumpy\u001b[39;00m \u001b[38;5;28;01mas\u001b[39;00m \u001b[38;5;21;01mnp\u001b[39;00m\n",
      "\u001b[0;31mModuleNotFoundError\u001b[0m: No module named 'torch.utils.data.sample'"
     ]
    }
   ],
   "source": [
    "from torch.utils.data import Dataset\n",
    "from torch.utils.data.sample import BatchSampler, RandomSampler\n",
    "import numpy as np"
   ]
  },
  {
   "cell_type": "code",
   "execution_count": 4,
   "id": "bd704933-b817-438d-a1d2-be6331e797f2",
   "metadata": {},
   "outputs": [],
   "source": [
    "# https://discuss.pytorch.org/t/best-way-to-load-a-lot-of-training-data/80847/3\n",
    "import os\n",
    "class ChromaSurfaceDataset(Dataset):\n",
    "    def __init__(self, chroma_folder, surface_folder):\n",
    "        self.chroma_folder = chroma_folder # link to pianoroll npz files\n",
    "        self.surface_folder = surface_folder # link to tokenizations of midi files\n",
    "        self.files = os.listdir(chroma_folder) # take all files in the root directory\n",
    "    def __len__(self):\n",
    "        return len(self.files)\n",
    "    def __getitem__(self, idx):\n",
    "        sample = torch.load(os.path.join(self.root, self.files[idx]))\n",
    "        label = torch.load(os.path.join(self.root, self.files[idx].split('.')[0]+'.tkn'))\n",
    "        return sample, label"
   ]
  },
  {
   "cell_type": "code",
   "execution_count": null,
   "id": "aaf6ccc3-743b-459f-906c-bd839c8aa2fb",
   "metadata": {},
   "outputs": [],
   "source": [
    "# https://discuss.pytorch.org/t/how-to-use-batchsampler-with-getitem-dataset/78788/3\n",
    "dataset = ChromaSurfaceDataset(chroma_folder, surface_folder)        \n",
    "sampler = BatchSampler(\n",
    "    RandomSampler(dataset),\n",
    "    batch_size=10,\n",
    "    drop_last=False)\n",
    "\n",
    "loader = DataLoader(\n",
    "    dataset,\n",
    "    sampler=sampler)\n",
    "\n",
    "for data in loader:\n",
    "    print(data)"
   ]
  }
 ],
 "metadata": {
  "kernelspec": {
   "display_name": "Python 3 (ipykernel)",
   "language": "python",
   "name": "python3"
  },
  "language_info": {
   "codemirror_mode": {
    "name": "ipython",
    "version": 3
   },
   "file_extension": ".py",
   "mimetype": "text/x-python",
   "name": "python",
   "nbconvert_exporter": "python",
   "pygments_lexer": "ipython3",
   "version": "3.11.5"
  }
 },
 "nbformat": 4,
 "nbformat_minor": 5
}
