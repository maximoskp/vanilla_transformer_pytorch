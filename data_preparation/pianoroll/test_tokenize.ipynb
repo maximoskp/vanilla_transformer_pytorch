{
 "cells": [
  {
   "cell_type": "code",
   "execution_count": 2,
   "id": "f2674b74-37b4-4e03-ac4c-76929ac67c6d",
   "metadata": {},
   "outputs": [],
   "source": [
    "import numpy as np\n",
    "from BinaryTokenizer import BinaryTokenizer\n",
    "from miditok import REMI, TokenizerConfig\n",
    "from miditoolkit import MidiFile\n",
    "from pathlib import Path\n",
    "import numpy as np\n",
    "import pandas as pd"
   ]
  },
  {
   "cell_type": "code",
   "execution_count": 4,
   "id": "ce0937fd-61a4-4323-8bd5-1b3d022e0d5b",
   "metadata": {},
   "outputs": [],
   "source": [
    "# Our tokenizer's configuration\n",
    "PITCH_RANGE = (21, 109)\n",
    "BEAT_RES = {(0, 1): 8, (1, 2): 4, (2, 4): 2, (4, 8): 1}\n",
    "NB_VELOCITIES = 24\n",
    "SPECIAL_TOKENS = [\"PAD\", \"MASK\", \"BOS\", \"EOS\"]\n",
    "USE_CHORDS = False\n",
    "USE_RESTS = False\n",
    "USE_TEMPOS = False\n",
    "USE_TIME_SIGNATURE = False\n",
    "USE_PROGRAMS = False\n",
    "NB_TEMPOS = 32\n",
    "TEMPO_RANGE = (50, 200)  # (min_tempo, max_tempo)\n",
    "TOKENIZER_PARAMS = {\n",
    "    \"pitch_range\": PITCH_RANGE,\n",
    "    \"beat_res\": BEAT_RES,\n",
    "    \"num_velocities\": NB_VELOCITIES,\n",
    "    \"special_tokens\": SPECIAL_TOKENS,\n",
    "    \"use_chords\": USE_CHORDS,\n",
    "    \"use_rests\": USE_RESTS,\n",
    "    \"use_tempos\": USE_TEMPOS,\n",
    "    \"use_time_signatures\": USE_TIME_SIGNATURE,\n",
    "    \"use_programs\": USE_PROGRAMS,\n",
    "    \"num_tempos\": NB_TEMPOS,\n",
    "    \"tempo_range\": TEMPO_RANGE,\n",
    "}\n",
    "config = TokenizerConfig(**TOKENIZER_PARAMS)\n",
    "tokenizer = REMI(config)"
   ]
  },
  {
   "cell_type": "code",
   "execution_count": 5,
   "id": "a2d31674-6239-42ae-ac08-91bc76b1d836",
   "metadata": {},
   "outputs": [],
   "source": [
    "prefix = 'data'\n",
    "path_to_dataset = f'{prefix}/midis/'\n",
    "path_to_tokens = f'{prefix}/midi_tokens/'\n",
    "path_to_tokenizer_config = f'{prefix}/midi_tokenizer.json'"
   ]
  },
  {
   "cell_type": "code",
   "execution_count": 6,
   "id": "1d1fd249-c00c-47a7-a507-579b3b4a32b5",
   "metadata": {},
   "outputs": [
    {
     "name": "stderr",
     "output_type": "stream",
     "text": [
      "Tokenizing MIDIs (data/midi_tokens): 100%|███████████████████████████████████| 382794/382794 [16:33:26<00:00,  6.42it/s]\n"
     ]
    }
   ],
   "source": [
    "midi_paths = list(Path(path_to_dataset).glob(\"**/*.mid\"))\n",
    "tokenizer.tokenize_midi_dataset(midi_paths, Path(path_to_tokens), data_augment_offsets=None)"
   ]
  }
 ],
 "metadata": {
  "kernelspec": {
   "display_name": "Python 3 (ipykernel)",
   "language": "python",
   "name": "python3"
  },
  "language_info": {
   "codemirror_mode": {
    "name": "ipython",
    "version": 3
   },
   "file_extension": ".py",
   "mimetype": "text/x-python",
   "name": "python",
   "nbconvert_exporter": "python",
   "pygments_lexer": "ipython3",
   "version": "3.11.6"
  }
 },
 "nbformat": 4,
 "nbformat_minor": 5
}
