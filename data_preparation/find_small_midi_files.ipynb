{
 "cells": [
  {
   "cell_type": "code",
   "execution_count": 1,
   "id": "366611de-b469-4343-9552-7ea25de859b3",
   "metadata": {},
   "outputs": [],
   "source": [
    "import os"
   ]
  },
  {
   "cell_type": "code",
   "execution_count": 7,
   "id": "d26df04f-1a07-4a86-8c5a-28bd307ece99",
   "metadata": {},
   "outputs": [
    {
     "name": "stdout",
     "output_type": "stream",
     "text": [
      "672 Alburger, Mark, Variations and Theme, Op.6, _dxxgrM4JbI.mid\n",
      "890 Bartók, Béla, Mikrokosmos, Sz.107, Mi2QOHhnzXE.mid\n",
      "927 Baumfelder, Friedrich, Melody, x3vG5mdukvg.mid\n",
      "842 Beethoven, Ludwig van, Bagatelle, WoO 61a, OoLwAQrVQUY.mid\n",
      "271 Berens, Hermann, 50 Piano Pieces for First Beginners, Op.70, 8I3SZtZHn2s.mid\n",
      "888 Breslaur, Emil, Die leichtesten Klavierstücke, Op.46, fgIRzt9vfHI.mid\n",
      "699 Burnell, Paul, Just before Dawn, yqxV-GKsAdE.mid\n",
      "746 Carr, Benjamin, The Analytical Instructor for the Piano Forte, bbu3W8AB33Q.mid\n",
      "810 Ferrari, Carlotta, Catnap Toccata, 4G5wKH7ca3M.mid\n",
      "937 Ferrari, Carlotta, D.E.A.TH., TVvpJ0ya_tQ.mid\n",
      "938 Friedl, Aleš, Pianino No.1, hx0sIXbYUBc.mid\n",
      "63 Gumpelzhaimer, Adam, Was mein Gott will, das g'scheh allzeit, BTQegBbW13A.mid\n",
      "729 Hamilton, Gregory, Pastel for Organ, SnCWnkzEurY.mid\n",
      "729 Hamilton, Gregory, Roses for Solo Organ, SnCWnkzEurY.mid\n",
      "821 Hess, J. Charles, Méthode de piano extrêmement facile, Op.69, ql8s9iHIqnc.mid\n",
      "385 Hill, Mildred, Good Morning Sweetheart, sbGiNDrZgR0.mid\n",
      "660 Kunz, Konrad Max, 200 Short Two-Part Canons, Op.14, U2uqJvwjnsA.mid\n",
      "500 Maylath, Henry, New Graded Piano Method, zUR3bOPQ3b8.mid\n",
      "500 Maylath, Henry, The First Quarter, zUR3bOPQ3b8.mid\n",
      "852 Menkveld, Jan Willem, Frech, Op.29 No.21, 4HhMyeQLCTw.mid\n",
      "901 Montague, Laurence Hibbard, Red Roses, 4e_QrOzfEg0.mid\n",
      "963 Mozart, Wolfgang Amadeus, Andante in C major, K.1a, 0Yao9rOmQaE.mid\n",
      "825 Mozart, Wolfgang Amadeus, Fugue in F major, K.Anh.33, yy9SFM1PPYw.mid\n",
      "603 Mozart, Wolfgang Amadeus, Piano Sonata in F major, K.Anh.29_590a, bUh99lCe1tU.mid\n",
      "992 Mozart, Wolfgang Amadeus, Piano Sonata in F major, K.Anh.30_590b, CKZX2xrn2Vk.mid\n",
      "715 Mudarra, Alonso, Fabordon I de vihuela, lLqXxcCHlUI.mid\n",
      "797 Oesten, Theodore, Goldperlen, Op.94, B0bZhzicgKI.mid\n",
      "604 Parodi Ortega, Luis Félix, 12 Estudios para Piano, Op.49, dNDVDQ9KaYU.mid\n",
      "821 Pozzoli, Ettore, Sanctus in C major, TVchWOEKp9g.mid\n",
      "874 Purcell, Henry, Suite in G major, Z.660, lWjhJBnuk8E.mid\n",
      "998 Satie, Erik, Allegro, 3yGYXvq-scc.mid\n",
      "666 Spindler, Fritz, Hexenfahrt, Op.11, Gi_Zoy36LzQ.mid\n",
      "366 Spindler, Fritz, Wellenspiel, Op.6, krXtgqRCAvU.mid\n",
      "129 Stahl, William C., Golden Bell Waltz, gmrKI53VUVQ.mid\n",
      "685 Tárrega, Francisco, Preludio pentatonica, LpgPpk9XiSg.mid\n",
      "934 Webern, Anton, Kinderstück, 9umvR9_3peQ.mid\n"
     ]
    }
   ],
   "source": [
    "main_folder = 'data/giantmidi/'\n",
    "files = os.listdir(main_folder)\n",
    "for f in files:\n",
    "    s = os.stat(main_folder + f).st_size\n",
    "    if s < 1000:\n",
    "        print(s, f)"
   ]
  }
 ],
 "metadata": {
  "kernelspec": {
   "display_name": "Python 3 (ipykernel)",
   "language": "python",
   "name": "python3"
  },
  "language_info": {
   "codemirror_mode": {
    "name": "ipython",
    "version": 3
   },
   "file_extension": ".py",
   "mimetype": "text/x-python",
   "name": "python",
   "nbconvert_exporter": "python",
   "pygments_lexer": "ipython3",
   "version": "3.11.6"
  }
 },
 "nbformat": 4,
 "nbformat_minor": 5
}
